{
 "metadata": {
  "language_info": {
   "codemirror_mode": {
    "name": "ipython",
    "version": 3
   },
   "file_extension": ".py",
   "mimetype": "text/x-python",
   "name": "python",
   "nbconvert_exporter": "python",
   "pygments_lexer": "ipython3",
   "version": "3.9.1-final"
  },
  "orig_nbformat": 2,
  "kernelspec": {
   "name": "python3",
   "display_name": "Python 3.9.1 64-bit ('tableaux': conda)",
   "metadata": {
    "interpreter": {
     "hash": "14bf2abd044e4015f6b44ea771b07bb575c0efdfaec209bda872fa994da7e42f"
    }
   }
  }
 },
 "nbformat": 4,
 "nbformat_minor": 2,
 "cells": [
  {
   "cell_type": "code",
   "execution_count": 1,
   "metadata": {},
   "outputs": [],
   "source": [
    "from operator import mul\n",
    "from math import factorial\n",
    "from algo import *\n",
    "import pandas as pd\n",
    "import numpy as np"
   ]
  },
  {
   "cell_type": "code",
   "execution_count": 3,
   "metadata": {},
   "outputs": [
    {
     "output_type": "execute_result",
     "data": {
      "text/plain": [
       "q**7 + 4*q**6 + 7*q**5 + 8*q**4 + 8*q**3 + 7*q**2 + 4*q + 1"
      ],
      "text/latex": "$\\displaystyle q^{7} + 4 q^{6} + 7 q^{5} + 8 q^{4} + 8 q^{3} + 7 q^{2} + 4 q + 1$"
     },
     "metadata": {},
     "execution_count": 3
    }
   ],
   "source": [
    "q = symbols('q')\n",
    "\n",
    "\n",
    "expand(q**3*q_poly(q, 2)+ 3*q**2*q_poly(q, 4) + 3*q*q_poly(q, 6) + q_poly(q, 8))\n"
   ]
  },
  {
   "cell_type": "code",
   "execution_count": 4,
   "metadata": {},
   "outputs": [],
   "source": [
    "\n",
    "def ex_df(n, h):\n",
    "    if type(h) == int:\n",
    "        h=h_function(h, n)\n",
    "    l = []\n",
    "    for p in permutations(range(1,n+1)):\n",
    "        P, Q = PRSK(p, h)\n",
    "        l.append(( shape(P), P_inv(P, h), P, Q, reading_word(Q),h))\n",
    "    return pd.DataFrame(\n",
    "        l,\n",
    "        columns=[\n",
    "            'shapes',\n",
    "            'inv',\n",
    "            'P',\n",
    "            'Q',\n",
    "            'Q_word',\n",
    "            'h'\n",
    "        ]).sort_values(by=['inv']).sort_values(by='P').sort_values(by='Q')\n"
   ]
  },
  {
   "cell_type": "code",
   "execution_count": 6,
   "metadata": {},
   "outputs": [
    {
     "output_type": "execute_result",
     "data": {
      "text/plain": [
       "        shapes  inv                      P                      Q  \\\n",
       "112  (2, 2, 1)    2  [[1, 2], [3, 4], [5]]  [[1, 2], [3, 4], [5]]   \n",
       "94   (2, 2, 1)    2  [[1, 2], [3, 4], [5]]  [[1, 2], [3, 5], [4]]   \n",
       "108  (3, 1, 1)    2  [[1, 2, 4], [3], [5]]  [[1, 2, 3], [4], [5]]   \n",
       "66      (3, 2)    2    [[1, 2, 4], [3, 5]]    [[1, 2, 3], [4, 5]]   \n",
       "62      (3, 2)    2    [[2, 1, 5], [4, 3]]    [[1, 2, 3], [4, 5]]   \n",
       "..         ...  ...                    ...                    ...   \n",
       "61      (3, 2)    1    [[1, 2, 5], [3, 4]]    [[1, 3, 5], [2, 4]]   \n",
       "13      (3, 2)    1    [[1, 2, 3], [4, 5]]    [[1, 3, 5], [2, 4]]   \n",
       "63      (3, 2)    2    [[2, 1, 5], [4, 3]]    [[1, 3, 5], [2, 4]]   \n",
       "83   (2, 2, 1)    2  [[1, 2], [3, 4], [5]]  [[1, 4], [2, 5], [3]]   \n",
       "41   (3, 1, 1)    2  [[1, 2, 4], [3], [5]]  [[1, 4, 5], [2], [3]]   \n",
       "\n",
       "              Q_word                h  \n",
       "112  [1, 2, 3, 4, 5]  [2, 3, 4, 5, 5]  \n",
       "94   [1, 2, 3, 5, 4]  [2, 3, 4, 5, 5]  \n",
       "108  [1, 2, 3, 4, 5]  [2, 3, 4, 5, 5]  \n",
       "66   [1, 2, 3, 4, 5]  [2, 3, 4, 5, 5]  \n",
       "62   [1, 2, 3, 4, 5]  [2, 3, 4, 5, 5]  \n",
       "..               ...              ...  \n",
       "61   [1, 3, 5, 2, 4]  [2, 3, 4, 5, 5]  \n",
       "13   [1, 3, 5, 2, 4]  [2, 3, 4, 5, 5]  \n",
       "63   [1, 3, 5, 2, 4]  [2, 3, 4, 5, 5]  \n",
       "83   [1, 4, 2, 5, 3]  [2, 3, 4, 5, 5]  \n",
       "41   [1, 4, 5, 2, 3]  [2, 3, 4, 5, 5]  \n",
       "\n",
       "[120 rows x 6 columns]"
      ],
      "text/html": "<div>\n<style scoped>\n    .dataframe tbody tr th:only-of-type {\n        vertical-align: middle;\n    }\n\n    .dataframe tbody tr th {\n        vertical-align: top;\n    }\n\n    .dataframe thead th {\n        text-align: right;\n    }\n</style>\n<table border=\"1\" class=\"dataframe\">\n  <thead>\n    <tr style=\"text-align: right;\">\n      <th></th>\n      <th>shapes</th>\n      <th>inv</th>\n      <th>P</th>\n      <th>Q</th>\n      <th>Q_word</th>\n      <th>h</th>\n    </tr>\n  </thead>\n  <tbody>\n    <tr>\n      <th>112</th>\n      <td>(2, 2, 1)</td>\n      <td>2</td>\n      <td>[[1, 2], [3, 4], [5]]</td>\n      <td>[[1, 2], [3, 4], [5]]</td>\n      <td>[1, 2, 3, 4, 5]</td>\n      <td>[2, 3, 4, 5, 5]</td>\n    </tr>\n    <tr>\n      <th>94</th>\n      <td>(2, 2, 1)</td>\n      <td>2</td>\n      <td>[[1, 2], [3, 4], [5]]</td>\n      <td>[[1, 2], [3, 5], [4]]</td>\n      <td>[1, 2, 3, 5, 4]</td>\n      <td>[2, 3, 4, 5, 5]</td>\n    </tr>\n    <tr>\n      <th>108</th>\n      <td>(3, 1, 1)</td>\n      <td>2</td>\n      <td>[[1, 2, 4], [3], [5]]</td>\n      <td>[[1, 2, 3], [4], [5]]</td>\n      <td>[1, 2, 3, 4, 5]</td>\n      <td>[2, 3, 4, 5, 5]</td>\n    </tr>\n    <tr>\n      <th>66</th>\n      <td>(3, 2)</td>\n      <td>2</td>\n      <td>[[1, 2, 4], [3, 5]]</td>\n      <td>[[1, 2, 3], [4, 5]]</td>\n      <td>[1, 2, 3, 4, 5]</td>\n      <td>[2, 3, 4, 5, 5]</td>\n    </tr>\n    <tr>\n      <th>62</th>\n      <td>(3, 2)</td>\n      <td>2</td>\n      <td>[[2, 1, 5], [4, 3]]</td>\n      <td>[[1, 2, 3], [4, 5]]</td>\n      <td>[1, 2, 3, 4, 5]</td>\n      <td>[2, 3, 4, 5, 5]</td>\n    </tr>\n    <tr>\n      <th>...</th>\n      <td>...</td>\n      <td>...</td>\n      <td>...</td>\n      <td>...</td>\n      <td>...</td>\n      <td>...</td>\n    </tr>\n    <tr>\n      <th>61</th>\n      <td>(3, 2)</td>\n      <td>1</td>\n      <td>[[1, 2, 5], [3, 4]]</td>\n      <td>[[1, 3, 5], [2, 4]]</td>\n      <td>[1, 3, 5, 2, 4]</td>\n      <td>[2, 3, 4, 5, 5]</td>\n    </tr>\n    <tr>\n      <th>13</th>\n      <td>(3, 2)</td>\n      <td>1</td>\n      <td>[[1, 2, 3], [4, 5]]</td>\n      <td>[[1, 3, 5], [2, 4]]</td>\n      <td>[1, 3, 5, 2, 4]</td>\n      <td>[2, 3, 4, 5, 5]</td>\n    </tr>\n    <tr>\n      <th>63</th>\n      <td>(3, 2)</td>\n      <td>2</td>\n      <td>[[2, 1, 5], [4, 3]]</td>\n      <td>[[1, 3, 5], [2, 4]]</td>\n      <td>[1, 3, 5, 2, 4]</td>\n      <td>[2, 3, 4, 5, 5]</td>\n    </tr>\n    <tr>\n      <th>83</th>\n      <td>(2, 2, 1)</td>\n      <td>2</td>\n      <td>[[1, 2], [3, 4], [5]]</td>\n      <td>[[1, 4], [2, 5], [3]]</td>\n      <td>[1, 4, 2, 5, 3]</td>\n      <td>[2, 3, 4, 5, 5]</td>\n    </tr>\n    <tr>\n      <th>41</th>\n      <td>(3, 1, 1)</td>\n      <td>2</td>\n      <td>[[1, 2, 4], [3], [5]]</td>\n      <td>[[1, 4, 5], [2], [3]]</td>\n      <td>[1, 4, 5, 2, 3]</td>\n      <td>[2, 3, 4, 5, 5]</td>\n    </tr>\n  </tbody>\n</table>\n<p>120 rows × 6 columns</p>\n</div>"
     },
     "metadata": {},
     "execution_count": 6
    }
   ],
   "source": [
    "df = ex_df(5, 2)\n",
    "\n",
    "df"
   ]
  },
  {
   "cell_type": "code",
   "execution_count": 7,
   "metadata": {},
   "outputs": [
    {
     "output_type": "execute_result",
     "data": {
      "text/plain": [
       "1"
      ]
     },
     "metadata": {},
     "execution_count": 7
    }
   ],
   "source": [
    "\n",
    "n = 6\n",
    "c = coef(4, 2)\n",
    "c[2][(2,2)]"
   ]
  },
  {
   "cell_type": "code",
   "execution_count": null,
   "metadata": {},
   "outputs": [],
   "source": [
    "\n",
    "q_fact('q', 4)\n",
    "q_binom('q', 6,5)\n",
    "perm_coefs(3, [1, 3, 3])\n",
    "\n",
    "def permDF(n, h):\n",
    "    c = [(\"\".join([str(k)+\"::\" for k in p]))[:-2] for p in partitions(n)]\n",
    "    df = pd.DataFrame(perm_coefs(n,h), columns=c)\n",
    "    df.index.name = df.index = df.index.rename('degree')\n",
    "    return df\n",
    "\n",
    "\n",
    "permDF(3,[2,3,3])\n",
    "permDF(3, [3,3,3])\n",
    "[0,0,0], [1,1,1], [q,q,q]\n",
    "permDF(4, [2,3,4,4])\n",
    "permDF(4, [3,3,4,4])\n",
    "\n",
    "df = permDF(n,h)\n",
    "\n",
    "\n",
    "for n in range(3,8):\n",
    "    h = list(range(n))\n",
    "    for j in range(n):\n",
    "        if j == 0:\n",
    "            h[j] = min(2, n)\n",
    "        if j == 1:\n",
    "            h[j] = min(4, n)\n",
    "        else:\n",
    "            h[j] = min(j+3, n)\n",
    "    check(n,h)\n",
    "\n",
    "pd.read_csv(\"\".join([str(k) for k in [3,3,4,4]])+\".csv\", sep=\";\")\n",
    "\n",
    "\"\".join([str(i) for i in h])\n",
    "p = [3,2,2]\n",
    "\n",
    "def check(n, h):\n",
    "    df = permDF(n,h)\n",
    "    v = [factorial(n)/np.prod(np.array([factorial(i) for i in p])) for p in partitions(n)]\n",
    "    print(sum(df@v) == factorial(n))\n",
    "check(5, [2,4,4,5,5])\n",
    "\n",
    "\n",
    "for p in permutations([1,2,3]):\n",
    "    print(p, code(zero_d2e(p)), RSK(code(zero_d2e(p))[0]), PRSK(p[::-1], 2))\n",
    "\n",
    "\n",
    "for p in permutations([1,2,3,4]):\n",
    "    print(p, code(zero_d2e(p)), RSK(code(zero_d2e(p))[0]))\n"
   ]
  },
  {
   "cell_type": "code",
   "execution_count": 19,
   "metadata": {},
   "outputs": [],
   "source": [
    "def K(n):\n",
    "    coefs = {}\n",
    "    inner = {tuple(q): 0 for q in partitions(n)}\n",
    "    for p in partitions(n):\n",
    "        coefs[tuple(p)] = inner.copy()\n",
    "        # create a list of p_1 1's, p_2 2's, etc...\n",
    "        seq = [[i + 1] * p[i] for i in range(len(p))]\n",
    "        seq = [i for sub in seq for i in sub]\n",
    "        \n",
    "        q = []\n",
    "        \"\"\"\n",
    "        this will die as n grows, but loop over perms of the content\n",
    "        run the RSK alg to get a SSYT and add one for each time the\n",
    "        standard reading word comes up\n",
    "        \"\"\"\n",
    "        for perm in permutations(seq):\n",
    "            if perm not in q:\n",
    "                P, Q = RSK(perm)\n",
    "                q.append(perm)\n",
    "                if reading_word(Q) == list(range(1, n + 1)):\n",
    "                    coefs[tuple(p)][shape(P)] += 1\n",
    "\n",
    "    # turn the data into a martic\n",
    "    coefs = [coefs[p][i] for p in list(coefs) for i in list(coefs[p])]\n",
    "    coefs = np.array(coefs).reshape(len(inner), len(inner)).T\n",
    "    return coefs"
   ]
  },
  {
   "cell_type": "code",
   "execution_count": 21,
   "metadata": {},
   "outputs": [
    {
     "output_type": "execute_result",
     "data": {
      "text/plain": [
       "array([[1, 1, 1, 1, 1],\n",
       "       [0, 1, 1, 2, 3],\n",
       "       [0, 0, 1, 1, 2],\n",
       "       [0, 0, 0, 1, 3],\n",
       "       [0, 0, 0, 0, 1]])"
      ]
     },
     "metadata": {},
     "execution_count": 21
    }
   ],
   "source": [
    "K(4)"
   ]
  },
  {
   "cell_type": "code",
   "execution_count": 11,
   "metadata": {},
   "outputs": [
    {
     "output_type": "execute_result",
     "data": {
      "text/plain": [
       "[3, 3, 3]"
      ]
     },
     "metadata": {},
     "execution_count": 11
    }
   ],
   "source": [
    "[3]*[1,3][1]"
   ]
  },
  {
   "cell_type": "code",
   "execution_count": 17,
   "metadata": {},
   "outputs": [
    {
     "output_type": "execute_result",
     "data": {
      "text/plain": [
       "array([1, 2, 0])"
      ]
     },
     "metadata": {},
     "execution_count": 17
    }
   ],
   "source": [
    "w.__mul__(w).word"
   ]
  },
  {
   "cell_type": "code",
   "execution_count": 24,
   "metadata": {},
   "outputs": [
    {
     "output_type": "execute_result",
     "data": {
      "text/plain": [
       "array([[0., 0., 1.],\n",
       "       [0., 1., 0.],\n",
       "       [1., 0., 0.]])"
      ]
     },
     "metadata": {},
     "execution_count": 24
    }
   ],
   "source": [
    "w.power(1)._matrix"
   ]
  },
  {
   "cell_type": "code",
   "execution_count": 27,
   "metadata": {},
   "outputs": [
    {
     "output_type": "execute_result",
     "data": {
      "text/plain": [
       "array([[0., 0., 1.],\n",
       "       [0., 1., 0.],\n",
       "       [1., 0., 0.]])"
      ]
     },
     "metadata": {},
     "execution_count": 27
    }
   ],
   "source": [
    "np.linalg.matrix_power(w._matrix, 1)"
   ]
  },
  {
   "cell_type": "code",
   "execution_count": 57,
   "metadata": {},
   "outputs": [
    {
     "output_type": "stream",
     "name": "stdout",
     "text": [
      "[4, 8, 6, 3, 1, 2, 5, 7]\nmax descent: 3\npq: [3, 1, 2]\nvalleys: [1]\nmin valley: 1\ndes_v: []\nclimbs: []\nno climbs: [3, 1, 2]\nleft-over: [4, 8, 6, 5, 7]\nmax descent: 2\npq: [6, 5]\nvalleys: []\nno valleys: [6, 5]\nleft-over: [4, 8, 7]\nmax descent: 1\npq: [8, 7]\nvalleys: []\nno valleys: [8, 7]\nleft-over: [4]\n"
     ]
    },
    {
     "output_type": "execute_result",
     "data": {
      "text/plain": [
       "([1, 1, 1, 0, 2, 2, 3, 3], {1: 1, 2: 1, 3: 1})"
      ]
     },
     "metadata": {},
     "execution_count": 57
    }
   ],
   "source": [
    "descent_algo([4, 8, 6, 3, 1, 2, 5, 7])"
   ]
  },
  {
   "cell_type": "code",
   "execution_count": 257,
   "metadata": {
    "tags": []
   },
   "outputs": [
    {
     "output_type": "stream",
     "name": "stdout",
     "text": [
      "[1, 2, 3, 4]\n[1, 2, 3, 4]\n[1, 2, 4, 3]\nin the middle: [4, 3]\nat the start: [4, 3]\nvalleys: []\nno valleys: [4, 3]\nleft-over: [1, 2]\n[1, 2, 4, 3]\nin the middle: [4, 3]\nat the start: [4, 3]\nvalleys: []\nno valleys: [4, 3]\nleft-over: [1, 2]\n[1, 3, 2, 4]\nat the end\nin the middle: [3, 2]\nat the start: [3, 2]\nvalleys: []\nno valleys: [3, 2]\nleft-over: [1, 4]\n[1, 3, 2, 4]\nat the end\nin the middle: [3, 2]\nat the start: [3, 2]\nvalleys: []\nno valleys: [3, 2]\nleft-over: [1, 4]\n[1, 3, 4, 2]\nin the middle: [4, 2]\nat the start: [4, 2]\nvalleys: []\nno valleys: [4, 2]\nleft-over: [1, 3]\n[1, 3, 4, 2]\nin the middle: [4, 2]\nat the start: [4, 2]\nvalleys: []\nno valleys: [4, 2]\nleft-over: [1, 3]\n[1, 4, 2, 3]\nin the middle: [4, 2, 3]\nat the start: [4, 2, 3]\nvalleys: [1]\nmin valley: 1\ndes_v: [0]\nclimbs: []\nno climbs: [4, 2, 3]\nleft-over: [1]\n[1, 4, 2, 3]\nin the middle: [4, 2, 3]\nat the start: [4, 2, 3]\nvalleys: [1]\nmin valley: 1\ndes_v: [0]\nclimbs: []\nno climbs: [4, 2, 3]\nleft-over: [1]\n[1, 4, 3, 2]\nin the middle: [4, 3, 2]\nat the start: [4, 3, 2]\nvalleys: []\nno valleys: [4, 3, 2]\nleft-over: [1]\n[1, 4, 3, 2]\nin the middle: [4, 3, 2]\nat the start: [4, 3, 2]\nvalleys: []\nno valleys: [4, 3, 2]\nleft-over: [1]\n[2, 1, 3, 4]\nat the end\nat the end\nat the start: [2, 1]\nvalleys: []\nno valleys: [2, 1]\nleft-over: [3, 4]\n[2, 1, 3, 4]\nat the end\nat the end\nat the start: [2, 1]\nvalleys: []\nno valleys: [2, 1]\nleft-over: [3, 4]\n[2, 1, 4, 3]\nin the middle: [4, 3]\nat the start: [4, 3]\nvalleys: []\nno valleys: [4, 3]\nleft-over: [2, 1]\nat the start: [2, 1]\nvalleys: []\nno valleys: [2, 1]\nleft-over: []\n[2, 1, 4, 3]\nin the middle: [4, 3]\nat the start: [4, 3]\nvalleys: []\nno valleys: [4, 3]\nleft-over: [2, 1]\nat the start: [2, 1]\nvalleys: []\nno valleys: [2, 1]\nleft-over: []\n[2, 3, 1, 4]\nat the end\nin the middle: [3, 1]\nat the start: [3, 1]\nvalleys: []\nno valleys: [3, 1]\nleft-over: [2, 4]\n[2, 3, 1, 4]\nat the end\nin the middle: [3, 1]\nat the start: [3, 1]\nvalleys: []\nno valleys: [3, 1]\nleft-over: [2, 4]\n[2, 3, 4, 1]\nin the middle: [4, 1]\nat the start: [4, 1]\nvalleys: []\nno valleys: [4, 1]\nleft-over: [2, 3]\n[2, 3, 4, 1]\nin the middle: [4, 1]\nat the start: [4, 1]\nvalleys: []\nno valleys: [4, 1]\nleft-over: [2, 3]\n[2, 4, 1, 3]\nin the middle: [4, 1, 3]\nat the start: [4, 1, 3]\nvalleys: [1]\nmin valley: 1\ndes_v: [0]\nclimbs: []\nno climbs: [4, 1, 3]\nleft-over: [2]\n[2, 4, 1, 3]\nin the middle: [4, 1, 3]\nat the start: [4, 1, 3]\nvalleys: [1]\nmin valley: 1\ndes_v: [0]\nclimbs: []\nno climbs: [4, 1, 3]\nleft-over: [2]\n[2, 4, 3, 1]\nin the middle: [4, 3, 1]\nat the start: [4, 3, 1]\nvalleys: []\nno valleys: [4, 3, 1]\nleft-over: [2]\n[2, 4, 3, 1]\nin the middle: [4, 3, 1]\nat the start: [4, 3, 1]\nvalleys: []\nno valleys: [4, 3, 1]\nleft-over: [2]\n[3, 1, 2, 4]\nat the end\nat the start: [3, 1, 2]\nvalleys: [1]\nmin valley: 1\ndes_v: [0]\nclimbs: []\nno climbs: [3, 1, 2]\nleft-over: [4]\n[3, 1, 2, 4]\nat the end\nat the start: [3, 1, 2]\nvalleys: [1]\nmin valley: 1\ndes_v: [0]\nclimbs: []\nno climbs: [3, 1, 2]\nleft-over: [4]\n[3, 1, 4, 2]\nin the middle: [4, 2]\nat the start: [4, 2]\nvalleys: []\nno valleys: [4, 2]\nleft-over: [3, 1]\nat the start: [3, 1]\nvalleys: []\nno valleys: [3, 1]\nleft-over: []\n[3, 1, 4, 2]\nin the middle: [4, 2]\nat the start: [4, 2]\nvalleys: []\nno valleys: [4, 2]\nleft-over: [3, 1]\nat the start: [3, 1]\nvalleys: []\nno valleys: [3, 1]\nleft-over: []\n[3, 2, 1, 4]\nat the end\nat the start: [3, 2, 1]\nvalleys: []\nno valleys: [3, 2, 1]\nleft-over: [4]\n[3, 2, 1, 4]\nat the end\nat the start: [3, 2, 1]\nvalleys: []\nno valleys: [3, 2, 1]\nleft-over: [4]\n[3, 2, 4, 1]\nin the middle: [4, 1]\nat the start: [4, 1]\nvalleys: []\nno valleys: [4, 1]\nleft-over: [3, 2]\nat the start: [3, 2]\nvalleys: []\nno valleys: [3, 2]\nleft-over: []\n[3, 2, 4, 1]\nin the middle: [4, 1]\nat the start: [4, 1]\nvalleys: []\nno valleys: [4, 1]\nleft-over: [3, 2]\nat the start: [3, 2]\nvalleys: []\nno valleys: [3, 2]\nleft-over: []\n[3, 4, 1, 2]\nin the middle: [4, 1, 2]\nat the start: [4, 1, 2]\nvalleys: [1]\nmin valley: 1\ndes_v: [0]\nclimbs: []\nno climbs: [4, 1, 2]\nleft-over: [3]\n[3, 4, 1, 2]\nin the middle: [4, 1, 2]\nat the start: [4, 1, 2]\nvalleys: [1]\nmin valley: 1\ndes_v: [0]\nclimbs: []\nno climbs: [4, 1, 2]\nleft-over: [3]\n[3, 4, 2, 1]\nin the middle: [4, 2, 1]\nat the start: [4, 2, 1]\nvalleys: []\nno valleys: [4, 2, 1]\nleft-over: [3]\n[3, 4, 2, 1]\nin the middle: [4, 2, 1]\nat the start: [4, 2, 1]\nvalleys: []\nno valleys: [4, 2, 1]\nleft-over: [3]\n[4, 1, 2, 3]\nat the start: [4, 1, 2, 3]\nvalleys: [1]\nmin valley: 1\ndes_v: [0]\nclimbs: []\nno climbs: [4, 1, 2, 3]\nleft-over: []\n[4, 1, 2, 3]\nat the start: [4, 1, 2, 3]\nvalleys: [1]\nmin valley: 1\ndes_v: [0]\nclimbs: []\nno climbs: [4, 1, 2, 3]\nleft-over: []\n[4, 1, 3, 2]\nat the start: [4, 1, 3, 2]\nvalleys: [1]\nmin valley: 1\ndes_v: [0, 2]\n[4, 1, 3]\n2\nclimbs: []\nno climbs: [4, 1, 3]\nleft-over: [2]\n[4, 1, 3, 2]\nat the start: [4, 1, 3, 2]\nvalleys: [1]\nmin valley: 1\ndes_v: [0, 2]\n[4, 1, 3]\n2\nclimbs: []\nno climbs: [4, 1, 3]\nleft-over: [2]\n[4, 2, 1, 3]\nat the start: [4, 2, 1, 3]\nvalleys: [2]\nmin valley: 2\ndes_v: [0, 1]\nclimbs: []\nno climbs: [4, 2, 1, 3]\nleft-over: []\n[4, 2, 1, 3]\nat the start: [4, 2, 1, 3]\nvalleys: [2]\nmin valley: 2\ndes_v: [0, 1]\nclimbs: []\nno climbs: [4, 2, 1, 3]\nleft-over: []\n[4, 2, 3, 1]\nat the start: [4, 2, 3, 1]\nvalleys: [1]\nmin valley: 1\ndes_v: [0, 2]\n[4, 2, 3]\n2\nclimbs: []\nno climbs: [4, 2, 3]\nleft-over: [1]\n[4, 2, 3, 1]\nat the start: [4, 2, 3, 1]\nvalleys: [1]\nmin valley: 1\ndes_v: [0, 2]\n[4, 2, 3]\n2\nclimbs: []\nno climbs: [4, 2, 3]\nleft-over: [1]\n[4, 3, 1, 2]\nat the start: [4, 3, 1, 2]\nvalleys: [2]\nmin valley: 2\ndes_v: [0, 1]\nclimbs: []\nno climbs: [4, 3, 1, 2]\nleft-over: []\n[4, 3, 1, 2]\nat the start: [4, 3, 1, 2]\nvalleys: [2]\nmin valley: 2\ndes_v: [0, 1]\nclimbs: []\nno climbs: [4, 3, 1, 2]\nleft-over: []\n[4, 3, 2, 1]\nat the start: [4, 3, 2, 1]\nvalleys: []\nno valleys: [4, 3, 2, 1]\nleft-over: []\n[4, 3, 2, 1]\nat the start: [4, 3, 2, 1]\nvalleys: []\nno valleys: [4, 3, 2, 1]\nleft-over: []\n"
     ]
    }
   ],
   "source": [
    "n = 4\n",
    "id = [i+1 for i in range(n)]\n",
    "df = pd.DataFrame(\n",
    "    data=[[\n",
    "        ww,\n",
    "        str(descent_algo(ww)[0]), \n",
    "        str(descent_algo(ww)[1])\n",
    "        ] for ww in permutations(id)],\n",
    "    columns=['perm','code', 'index'])\n",
    "\n",
    "#df.drop_duplicates().shape"
   ]
  },
  {
   "cell_type": "code",
   "execution_count": 259,
   "metadata": {},
   "outputs": [
    {
     "output_type": "execute_result",
     "data": {
      "text/plain": [
       "            perm          code         index\n",
       "0   [1, 2, 3, 4]  [0, 0, 0, 0]            {}\n",
       "1   [1, 2, 4, 3]  [0, 0, 1, 1]        {1: 1}\n",
       "3   [1, 3, 4, 2]  [0, 1, 0, 1]        {1: 1}\n",
       "2   [1, 3, 2, 4]  [0, 1, 1, 0]        {1: 1}\n",
       "4   [1, 4, 2, 3]  [0, 1, 1, 1]        {1: 1}\n",
       "5   [1, 4, 3, 2]  [0, 1, 1, 1]        {1: 2}\n",
       "21  [4, 2, 3, 1]  [0, 1, 1, 1]        {1: 2}\n",
       "9   [2, 3, 4, 1]  [1, 0, 0, 1]        {1: 1}\n",
       "8   [2, 3, 1, 4]  [1, 0, 1, 0]        {1: 1}\n",
       "10  [2, 4, 1, 3]  [1, 0, 1, 1]        {1: 1}\n",
       "11  [2, 4, 3, 1]  [1, 0, 1, 1]        {1: 2}\n",
       "19  [4, 1, 3, 2]  [1, 0, 1, 1]        {1: 2}\n",
       "6   [2, 1, 3, 4]  [1, 1, 0, 0]        {1: 1}\n",
       "16  [3, 4, 1, 2]  [1, 1, 0, 1]        {1: 1}\n",
       "17  [3, 4, 2, 1]  [1, 1, 0, 1]        {1: 2}\n",
       "12  [3, 1, 2, 4]  [1, 1, 1, 0]        {1: 1}\n",
       "14  [3, 2, 1, 4]  [1, 1, 1, 0]        {1: 2}\n",
       "18  [4, 1, 2, 3]  [1, 1, 1, 1]        {1: 1}\n",
       "20  [4, 2, 1, 3]  [1, 1, 1, 1]        {1: 2}\n",
       "22  [4, 3, 1, 2]  [1, 1, 1, 1]        {1: 2}\n",
       "23  [4, 3, 2, 1]  [1, 1, 1, 1]        {1: 3}\n",
       "15  [3, 2, 4, 1]  [1, 2, 2, 1]  {1: 2, 2: 1}\n",
       "13  [3, 1, 4, 2]  [2, 1, 2, 1]  {1: 2, 2: 1}\n",
       "7   [2, 1, 4, 3]  [2, 2, 1, 1]  {1: 2, 2: 1}"
      ],
      "text/html": "<div>\n<style scoped>\n    .dataframe tbody tr th:only-of-type {\n        vertical-align: middle;\n    }\n\n    .dataframe tbody tr th {\n        vertical-align: top;\n    }\n\n    .dataframe thead th {\n        text-align: right;\n    }\n</style>\n<table border=\"1\" class=\"dataframe\">\n  <thead>\n    <tr style=\"text-align: right;\">\n      <th></th>\n      <th>perm</th>\n      <th>code</th>\n      <th>index</th>\n    </tr>\n  </thead>\n  <tbody>\n    <tr>\n      <th>0</th>\n      <td>[1, 2, 3, 4]</td>\n      <td>[0, 0, 0, 0]</td>\n      <td>{}</td>\n    </tr>\n    <tr>\n      <th>1</th>\n      <td>[1, 2, 4, 3]</td>\n      <td>[0, 0, 1, 1]</td>\n      <td>{1: 1}</td>\n    </tr>\n    <tr>\n      <th>3</th>\n      <td>[1, 3, 4, 2]</td>\n      <td>[0, 1, 0, 1]</td>\n      <td>{1: 1}</td>\n    </tr>\n    <tr>\n      <th>2</th>\n      <td>[1, 3, 2, 4]</td>\n      <td>[0, 1, 1, 0]</td>\n      <td>{1: 1}</td>\n    </tr>\n    <tr>\n      <th>4</th>\n      <td>[1, 4, 2, 3]</td>\n      <td>[0, 1, 1, 1]</td>\n      <td>{1: 1}</td>\n    </tr>\n    <tr>\n      <th>5</th>\n      <td>[1, 4, 3, 2]</td>\n      <td>[0, 1, 1, 1]</td>\n      <td>{1: 2}</td>\n    </tr>\n    <tr>\n      <th>21</th>\n      <td>[4, 2, 3, 1]</td>\n      <td>[0, 1, 1, 1]</td>\n      <td>{1: 2}</td>\n    </tr>\n    <tr>\n      <th>9</th>\n      <td>[2, 3, 4, 1]</td>\n      <td>[1, 0, 0, 1]</td>\n      <td>{1: 1}</td>\n    </tr>\n    <tr>\n      <th>8</th>\n      <td>[2, 3, 1, 4]</td>\n      <td>[1, 0, 1, 0]</td>\n      <td>{1: 1}</td>\n    </tr>\n    <tr>\n      <th>10</th>\n      <td>[2, 4, 1, 3]</td>\n      <td>[1, 0, 1, 1]</td>\n      <td>{1: 1}</td>\n    </tr>\n    <tr>\n      <th>11</th>\n      <td>[2, 4, 3, 1]</td>\n      <td>[1, 0, 1, 1]</td>\n      <td>{1: 2}</td>\n    </tr>\n    <tr>\n      <th>19</th>\n      <td>[4, 1, 3, 2]</td>\n      <td>[1, 0, 1, 1]</td>\n      <td>{1: 2}</td>\n    </tr>\n    <tr>\n      <th>6</th>\n      <td>[2, 1, 3, 4]</td>\n      <td>[1, 1, 0, 0]</td>\n      <td>{1: 1}</td>\n    </tr>\n    <tr>\n      <th>16</th>\n      <td>[3, 4, 1, 2]</td>\n      <td>[1, 1, 0, 1]</td>\n      <td>{1: 1}</td>\n    </tr>\n    <tr>\n      <th>17</th>\n      <td>[3, 4, 2, 1]</td>\n      <td>[1, 1, 0, 1]</td>\n      <td>{1: 2}</td>\n    </tr>\n    <tr>\n      <th>12</th>\n      <td>[3, 1, 2, 4]</td>\n      <td>[1, 1, 1, 0]</td>\n      <td>{1: 1}</td>\n    </tr>\n    <tr>\n      <th>14</th>\n      <td>[3, 2, 1, 4]</td>\n      <td>[1, 1, 1, 0]</td>\n      <td>{1: 2}</td>\n    </tr>\n    <tr>\n      <th>18</th>\n      <td>[4, 1, 2, 3]</td>\n      <td>[1, 1, 1, 1]</td>\n      <td>{1: 1}</td>\n    </tr>\n    <tr>\n      <th>20</th>\n      <td>[4, 2, 1, 3]</td>\n      <td>[1, 1, 1, 1]</td>\n      <td>{1: 2}</td>\n    </tr>\n    <tr>\n      <th>22</th>\n      <td>[4, 3, 1, 2]</td>\n      <td>[1, 1, 1, 1]</td>\n      <td>{1: 2}</td>\n    </tr>\n    <tr>\n      <th>23</th>\n      <td>[4, 3, 2, 1]</td>\n      <td>[1, 1, 1, 1]</td>\n      <td>{1: 3}</td>\n    </tr>\n    <tr>\n      <th>15</th>\n      <td>[3, 2, 4, 1]</td>\n      <td>[1, 2, 2, 1]</td>\n      <td>{1: 2, 2: 1}</td>\n    </tr>\n    <tr>\n      <th>13</th>\n      <td>[3, 1, 4, 2]</td>\n      <td>[2, 1, 2, 1]</td>\n      <td>{1: 2, 2: 1}</td>\n    </tr>\n    <tr>\n      <th>7</th>\n      <td>[2, 1, 4, 3]</td>\n      <td>[2, 2, 1, 1]</td>\n      <td>{1: 2, 2: 1}</td>\n    </tr>\n  </tbody>\n</table>\n</div>"
     },
     "metadata": {},
     "execution_count": 259
    }
   ],
   "source": [
    "df.sort_values(by=['code', 'index'])\n",
    "\n",
    "#df.iloc[:, 1:].drop_duplicates().shape"
   ]
  },
  {
   "cell_type": "code",
   "execution_count": 255,
   "metadata": {},
   "outputs": [
    {
     "output_type": "execute_result",
     "data": {
      "text/plain": [
       "40320"
      ]
     },
     "metadata": {},
     "execution_count": 255
    }
   ],
   "source": [
    "8*7*6*120"
   ]
  },
  {
   "cell_type": "code",
   "execution_count": 242,
   "metadata": {},
   "outputs": [],
   "source": []
  },
  {
   "cell_type": "code",
   "execution_count": 256,
   "metadata": {},
   "outputs": [],
   "source": [
    "\n",
    "def max_descent(p):\n",
    "    return max([p[i] for i in descents(p)])\n",
    "\n",
    "\n",
    "def index_max_descent(p):\n",
    "    return p.index(max_descent(p))\n",
    "\n",
    "\n",
    "def find_valleys(p):\n",
    "    return [i for i in range(1, len(p) - 1) if p[i - 1] > p[i] < p[i + 1]]\n",
    "\n",
    "def remover(pp):\n",
    "    if pp == []:\n",
    "        print('empty')\n",
    "        return pp\n",
    "    else: \n",
    "        N = pp.index(max(pp))\n",
    "    if N == len(pp) - 1:\n",
    "        print('at the end')\n",
    "        return remover(pp[:-1])\n",
    "    elif N > 0:\n",
    "        print(f'in the middle: {pp[N:]}')\n",
    "        return remover(pp[N:])\n",
    "    else: # the max is at the begninning\n",
    "        print(f'at the start: {pp}')\n",
    "        valleys = find_valleys(pp)  # find the valleys in the substring\n",
    "        print(f'valleys: {valleys}')\n",
    "        if len(valleys) == 0:  # return the substring if no valleys\n",
    "            print(f'no valleys: {pp}')\n",
    "            return pp\n",
    "        else:\n",
    "            v = min(valleys)  # pick the first valley\n",
    "            print(f'min valley: {v}')\n",
    "            des_v = descents(pp[v:])  # look at the descents after the first valley\n",
    "            print(f'des_v: {des_v}')\n",
    "            if des_v != []:  # if no descents then recurse\n",
    "                print(f'recurse: {pp[v:]}')\n",
    "                return remover(pp[v:])\n",
    "            else:\n",
    "                climbs = [j for j in pp[v:] if (bisect(pp[v - 1::-1], j) != 0)] # note we are looking in reverse\n",
    "                print(f'climbs: {climbs}')\n",
    "                if climbs == []:\n",
    "                    print(f'no climbs: {pp}')\n",
    "                    return pp\n",
    "                else:\n",
    "                    j = min(climbs)\n",
    "                    print(f'min climb: {[i for i in pp if (i < j)]}')\n",
    "                    return [i for i in pp if (i < j)]\n",
    "            \n",
    "\n",
    "def remove(p, q):\n",
    "    return [i for i in p if i not in q]\n",
    "\n",
    "\n",
    "def sequence(a, p, i):\n",
    "    for j in p:\n",
    "        a[j - 1] = i\n",
    "    return a\n",
    "\n",
    "\n",
    "def descent_algo(p):\n",
    "    print(p)\n",
    "    pp = p\n",
    "    i = 0\n",
    "    a = [0 for i in sorted(p)]\n",
    "    deg = {i: 0 for i in range(2 * len(p))}\n",
    "    while pp != sorted(pp):\n",
    "        pq = remover(pp)\n",
    "        d = desc(pp)\n",
    "        i += 1\n",
    "        deg[i] = d\n",
    "        pp = remove(pp, pq)\n",
    "        print(f'left-over: {pp}')\n",
    "        a = sequence(a, pq, i)\n",
    "    deg = {i: deg[i] for i in deg.keys() if deg[i] != 0}\n",
    "    return a, deg"
   ]
  },
  {
   "cell_type": "code",
   "execution_count": 261,
   "metadata": {},
   "outputs": [
    {
     "output_type": "execute_result",
     "data": {
      "text/plain": [
       "[0, 2]"
      ]
     },
     "metadata": {},
     "execution_count": 261
    }
   ],
   "source": [
    "descents([3,2,4,1])"
   ]
  },
  {
   "cell_type": "code",
   "execution_count": 83,
   "metadata": {},
   "outputs": [
    {
     "output_type": "execute_result",
     "data": {
      "text/plain": [
       "[6, 4, 5, 3]"
      ]
     },
     "metadata": {},
     "execution_count": 83
    }
   ],
   "source": [
    "l = [1,2,6,4,5,3]\n",
    "\n",
    "N = l.index(max(l))\n",
    "\n",
    "l[:N]\n",
    "\n",
    "\n",
    "l[N:]\n"
   ]
  },
  {
   "source": [
    "# OLD VERSIONS"
   ],
   "cell_type": "markdown",
   "metadata": {}
  },
  {
   "cell_type": "code",
   "execution_count": null,
   "metadata": {},
   "outputs": [],
   "source": [
    "\n",
    "def max_descent(p):\n",
    "    return max([p[i] for i in descents(p)])\n",
    "\n",
    "\n",
    "def index_max_descent(p):\n",
    "    return p.index(max_descent(p))\n",
    "\n",
    "\n",
    "def find_valleys(p):\n",
    "    return [i for i in range(1, len(p) - 1) if p[i - 1] > p[i] < p[i + 1]]\n",
    "\n",
    "def remover(pp):\n",
    "    mn = index_max_descent(pp)  # location of max descent\n",
    "    m = max_descent(pp)  # value of max descent\n",
    "    try:\n",
    "        M = min([j for j in pp[mn:] if j > m])  # value of lowest value greater than max descent\n",
    "        MN = pp.index(M)  # location of above\n",
    "    except:\n",
    "        MN = len(pp)  # last value if nothing is bigger than max descent\n",
    "    pq = pp[mn:MN]  # substring between max descent and smallest value bigger than max descent\n",
    "    print(f'max descent: {m}')\n",
    "    print(f'pq: {pq}')\n",
    "    valleys = find_valleys(pq)  # find the valleys in the substring\n",
    "    print(f'valleys: {valleys}')\n",
    "    if len(valleys) == 0:  # return the substring if no valleys\n",
    "        print(f'no valleys: {pq}')\n",
    "        return pq\n",
    "    else:\n",
    "        v = min(valleys)  # pick the first valley\n",
    "        print(f'min valley: {v}')\n",
    "        des_v = descents(pq[v:])  # look at the descents after the first valley\n",
    "        print(f'des_v: {des_v}')\n",
    "        if des_v != []:  # if no descents then recurse\n",
    "            print(f'recurse: {pq[v:]}')\n",
    "            return remover(pq[v:])\n",
    "        else:\n",
    "            climbs = [j for j in pq[v:] if (bisect(pq[v - 1::-1], j) != 0)] # note we are looking in reverse\n",
    "            print(f'climbs: {climbs}')\n",
    "            if climbs == []:\n",
    "                print(f'no climbs: {pq}')\n",
    "                return pq\n",
    "            else:\n",
    "                j = min(climbs)\n",
    "                print(f'min climb: {[i for i in pq if (i < j)]}')\n",
    "                return [i for i in pq if (i < j)]\n",
    "\n",
    "\n",
    "def remove(p, q):\n",
    "    return [i for i in p if i not in q]\n",
    "\n",
    "\n",
    "def sequence(a, p, i):\n",
    "    for j in p:\n",
    "        a[j - 1] = i\n",
    "    return a\n",
    "\n",
    "\n",
    "def descent_algo(p):\n",
    "    print(p)\n",
    "    pp = p\n",
    "    i = 0\n",
    "    a = [0 for i in sorted(p)]\n",
    "    deg = {i: 0 for i in range(2 * len(p))}\n",
    "    while pp != sorted(pp):\n",
    "        pq = remover(pp)\n",
    "        d = desc(pq)\n",
    "        i += 1\n",
    "        deg[i] = d\n",
    "        pp = remove(pp, pq)\n",
    "        print(f'left-over: {pp}')\n",
    "        a = sequence(a, pq, i)\n",
    "    deg = {i: deg[i] for i in deg.keys() if deg[i] != 0}\n",
    "    return a, deg\n"
   ]
  },
  {
   "source": [
    "# THESE DON'T WORK!"
   ],
   "cell_type": "markdown",
   "metadata": {}
  },
  {
   "cell_type": "code",
   "execution_count": 67,
   "metadata": {},
   "outputs": [],
   "source": [
    "\n",
    "\n",
    "# index of max descent instead of max w_i that is a descent\n",
    "#fails for n = 3\n",
    "\n",
    "\n",
    "def max_descent(p):\n",
    "    return max([i for i in descents(p)])\n",
    "\n",
    "\n",
    "def index_max_descent(p):\n",
    "    return p.index(max_descent(p))\n",
    "\n",
    "\n",
    "def find_valleys(p):\n",
    "    return [i for i in range(1, len(p) - 1) if p[i - 1] > p[i] < p[i + 1]]\n",
    "\n",
    "def remover(pp):\n",
    "    #mn = index_max_descent(pp)  # location of max descent\n",
    "    m = max_descent(pp)  # value of max descent\n",
    "    try:\n",
    "        M = min([j for j in pp[m:] if j > pp[m]])  # value of lowest value greater than max descent\n",
    "        MN = pp.index(M)  # location of above\n",
    "    except:\n",
    "        MN = len(pp)  # last value if nothing is bigger than max descent\n",
    "    pq = pp[m:MN]  # substring between max descent and smallest value bigger than max descent\n",
    "    print(f'max descent: {m}')\n",
    "    print(f'pq: {pq}')\n",
    "    valleys = find_valleys(pq)  # find the valleys in the substring\n",
    "    print(f'valleys: {valleys}')\n",
    "    if len(valleys) == 0:  # return the substring if no valleys\n",
    "        print(f'no valleys: {pq}')\n",
    "        return pq\n",
    "    else:\n",
    "        v = min(valleys)  # pick the first valley\n",
    "        print(f'min valley: {v}')\n",
    "        des_v = descents(pq[v:])  # look at the descents after the first valley\n",
    "        print(f'des_v: {des_v}')\n",
    "        if des_v != []:  # if no descents then recurse\n",
    "            print(f'recurse: {pq[v:]}')\n",
    "            return remover(pq[v:])\n",
    "        else:\n",
    "            climbs = [j for j in pq[v:] if bisect(pq[v - 1::-1], j) != 0] # note we are looking in reverse\n",
    "            print(f'climbs: {climbs}')\n",
    "            if climbs == []:\n",
    "                print(f'no climbs: {pq}')\n",
    "                return pq\n",
    "            else:\n",
    "                j = min(climbs)\n",
    "                print(f'min climb: {[i for i in pq if (i < j)]}')\n",
    "                return [i for i in pq if (i < j)]\n",
    "\n",
    "\n",
    "def remove(p, q):\n",
    "    return [i for i in p if i not in q]\n",
    "\n",
    "\n",
    "def sequence(a, p, i):\n",
    "    for j in p:\n",
    "        a[j - 1] = i\n",
    "    return a\n",
    "\n",
    "\n",
    "def descent_algo(p):\n",
    "    print(p)\n",
    "    pp = p\n",
    "    i = 0\n",
    "    a = [0 for i in sorted(p)]\n",
    "    deg = {i: 0 for i in range(2 * len(p))}\n",
    "    while pp != sorted(pp):\n",
    "        pq = remover(pp)\n",
    "        d = desc(pq)\n",
    "        i += 1\n",
    "        deg[i] = d\n",
    "        pp = remove(pp, pq)\n",
    "        print(f'left-over: {pp}')\n",
    "        a = sequence(a, pq, i)\n",
    "    deg = {i: deg[i] for i in deg.keys() if deg[i] != 0}\n",
    "    return a, deg\n"
   ]
  },
  {
   "cell_type": "code",
   "execution_count": 69,
   "metadata": {},
   "outputs": [],
   "source": [
    "\n",
    "#infinite loop\n",
    "\n",
    "\n",
    "def max_descent(p):\n",
    "    return max([i for i in descents(p)])\n",
    "\n",
    "\n",
    "def index_max_descent(p):\n",
    "    return p.index(max_descent(p))\n",
    "\n",
    "\n",
    "def find_valleys(p):\n",
    "    return [i for i in range(1, len(p) - 1) if p[i - 1] > p[i] < p[i + 1]]\n",
    "\n",
    "def remover(pp):\n",
    "    #mn = index_max_descent(pp)  # location of max descent\n",
    "    m = max_descent(pp)  # value of max descent\n",
    "    try:\n",
    "        M = min([j for j in pp[m:] if j > pp[m]])  # value of lowest value greater than max descent\n",
    "        MN = pp.index(M)  # location of above\n",
    "    except:\n",
    "        MN = len(pp)  # last value if nothing is bigger than max descent\n",
    "    pq = pp[m:MN]  # substring between max descent and smallest value bigger than max descent\n",
    "    print(f'max descent: {m}')\n",
    "    print(f'pq: {pq}')\n",
    "    valleys = find_valleys(pq)  # find the valleys in the substring\n",
    "    print(f'valleys: {valleys}')\n",
    "    if len(valleys) == 0:  # return the substring if no valleys\n",
    "        print(f'no valleys: {pq}')\n",
    "        return pq\n",
    "    else:\n",
    "        v = min(valleys)  # pick the first valley\n",
    "        print(f'min valley: {v}')\n",
    "        des_v = descents(pq[v:])  # look at the descents after the first valley\n",
    "        print(f'des_v: {des_v}')\n",
    "        if des_v != []:  # if no descents then recurse\n",
    "            print(f'recurse: {pq[v:]}')\n",
    "            return remover(pq[v:])\n",
    "        else:\n",
    "            climbs = [j for j in pq if bisect(pq[1::-1], j) != 0] # note we are looking in reverse\n",
    "            print(f'climbs: {climbs}')\n",
    "            if climbs == []:\n",
    "                print(f'no climbs: {pq}')\n",
    "                return pq\n",
    "            else:\n",
    "                j = min(climbs)\n",
    "                print(f'min climb: {[i for i in pq if (i < j)]}')\n",
    "                return [i for i in pq if (i < j)]\n",
    "\n",
    "\n",
    "def remove(p, q):\n",
    "    return [i for i in p if i not in q]\n",
    "\n",
    "\n",
    "def sequence(a, p, i):\n",
    "    for j in p:\n",
    "        a[j - 1] = i\n",
    "    return a\n",
    "\n",
    "\n",
    "def descent_algo(p):\n",
    "    print(p)\n",
    "    pp = p\n",
    "    i = 0\n",
    "    a = [0 for i in sorted(p)]\n",
    "    deg = {i: 0 for i in range(2 * len(p))}\n",
    "    while pp != sorted(pp):\n",
    "        pq = remover(pp)\n",
    "        d = desc(pq)\n",
    "        i += 1\n",
    "        deg[i] = d\n",
    "        pp = remove(pp, pq)\n",
    "        print(f'left-over: {pp}')\n",
    "        a = sequence(a, pq, i)\n",
    "    deg = {i: deg[i] for i in deg.keys() if deg[i] != 0}\n",
    "    return a, deg\n"
   ]
  },
  {
   "cell_type": "code",
   "execution_count": null,
   "metadata": {},
   "outputs": [],
   "source": []
  }
 ]
}