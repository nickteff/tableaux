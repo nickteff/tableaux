{
 "cells": [
  {
   "cell_type": "code",
   "execution_count": 4,
   "metadata": {},
   "outputs": [],
   "source": [
    "%reload_ext algo\n",
    "\n",
    "from IPython.display import HTML\n",
    "import matplotlib.pyplot as plt\n",
    "#plt.style.use('seaborn-whitegrid')\n",
    "import numpy as np\n",
    "import pandas as pd\n",
    "from math import factorial\n",
    "from itertools import permutations\n",
    "\n",
    "\n",
    "from algo import *\n",
    "\n",
    "import time"
   ]
  },
  {
   "cell_type": "code",
   "execution_count": 7,
   "metadata": {},
   "outputs": [],
   "source": [
    "def code_shape(c):\n",
    "    d = {j:0 for j in range(len(c))}\n",
    "    for i in c:\n",
    "        d[i] += 1\n",
    "    return sorted([d[i] for i in d if d[i] > 0], reverse=True)\n"
   ]
  },
  {
   "cell_type": "code",
   "execution_count": 8,
   "metadata": {},
   "outputs": [],
   "source": [
    "head = \"\"\"\n",
    "<html>\n",
    "\n",
    "<head>\n",
    "  <script src=\"https://code.jquery.com/jquery-3.4.1.min.js\" integrity=\"sha256-CSXorXvZcTkaix6Yvo6HppcZGetbYMGWSFlBw8HfCJo=\" crossorigin=\"anonymous\">\n",
    "  </script>\n",
    "  <link rel=\"stylesheet\" type=\"text/css\" href=\"https://cdn.datatables.net/1.10.20/css/jquery.dataTables.css\">\n",
    "\n",
    "  <script type=\"text/javascript\" charset=\"utf8\" src=\"https://cdn.datatables.net/1.10.20/js/jquery.dataTables.js\"></script>\n",
    "  <script>\n",
    "    $(document).ready(function() {\n",
    "      $('#table_id').DataTable();\n",
    "    });\n",
    "  </script>\n",
    "</head>\n",
    "\n",
    "<body>\n",
    "\"\"\"\n",
    "\n",
    "tail = \"\"\"\n",
    "</body>\n",
    "\n",
    "</html>\"\"\""
   ]
  },
  {
   "cell_type": "code",
   "execution_count": 9,
   "metadata": {},
   "outputs": [
    {
     "data": {
      "text/plain": [
       "[(1, 2, 3), (1, 3, 2), (2, 1, 3), (2, 3, 1), (3, 1, 2), (3, 2, 1)]"
      ]
     },
     "execution_count": 9,
     "metadata": {},
     "output_type": "execute_result"
    }
   ],
   "source": [
    "n = 3\n",
    "id = list(range(1, n+1))\n",
    "\n",
    "[w for w in permutations(id)]"
   ]
  },
  {
   "cell_type": "code",
   "execution_count": 10,
   "metadata": {},
   "outputs": [
    {
     "data": {
      "image/png": "[encoded data removed]",
      "text/plain": [
       "<Figure size 75x75 with 1 Axes>"
      ]
     },
     "metadata": {},
     "output_type": "display_data"
    },
    {
     "data": {
      "image/png": "[encoded data removed]",
      "text/plain": [
       "<Figure size 75x75 with 1 Axes>"
      ]
     },
     "metadata": {},
     "output_type": "display_data"
    },
    {
     "data": {
      "image/png": "[encoded data removed]",
      "text/plain": [
       "<Figure size 75x75 with 1 Axes>"
      ]
     },
     "metadata": {},
     "output_type": "display_data"
    },
    {
     "data": {
      "image/png": "[encoded data removed]",
      "text/plain": [
       "<Figure size 75x75 with 1 Axes>"
      ]
     },
     "metadata": {},
     "output_type": "display_data"
    },
    {
     "data": {
      "image/png": "[encoded data removed]",
      "text/plain": [
       "<Figure size 75x75 with 1 Axes>"
      ]
     },
     "metadata": {},
     "output_type": "display_data"
    },
    {
     "data": {
      "image/png": "[encoded data removed]",
      "text/plain": [
       "<Figure size 75x75 with 1 Axes>"
      ]
     },
     "metadata": {},
     "output_type": "display_data"
    }
   ],
   "source": [
    "\n",
    "\n",
    "def createFigure(w):\n",
    "    fig, ax = plt.subplots(figsize=(.75,.75))\n",
    "    ax.axis([0.5,n+.5,0.5,n+.5])\n",
    "    ax.axis(\"off\")\n",
    "    ax.plot(id, w, 'k', marker='o')\n",
    "    return fig\n",
    "\n",
    "def mapping(w):\n",
    "    fig = createFigure(w)\n",
    "    fname = \"img/map_{}.png\".format(w)\n",
    "    fig.savefig(fname)\n",
    "    imgstr = '<img src=\"{}\" /> '.format(fname)\n",
    "    return imgstr\n",
    "\n",
    "\n",
    "\n",
    "#pd.set_option('display.max_colwidth')\n",
    "#HTML(df.to_html(escape=False))\n",
    "\n",
    "for n in [3]:\n",
    "    id = list(range(1, n+1))\n",
    "    df = pd.DataFrame(\n",
    "        data=[[\n",
    "            ww, \n",
    "            descent_algo(ww)[0], \n",
    "            descent_algo(ww)[1], \n",
    "            code_shape(descent_algo(ww)[0]), \n",
    "            mapping(ww)] for ww in permutations(id)],\n",
    "        columns=['perm', 'code', 'index', 'shape', 'plot'])\n",
    "\n",
    "    df.to_html(\n",
    "        'decent_map_{}.html'.format(n), \n",
    "        escape=False, \n",
    "        index=False, \n",
    "        table_id=\"table_id\")\n",
    "        \n",
    "    df.loc[:, [\n",
    "        'perm', \n",
    "        'code', \n",
    "        'index', \n",
    "        'shape']].to_csv(\n",
    "            'decent_map_{}.csv'.format(n),\n",
    "            index=False)\n",
    "\n",
    "    with open('decent_map_{}.html'.format(n), mode=\"r\") as f:\n",
    "        html = f.read()\n",
    "        html = head + html + tail\n",
    "\n",
    "    with open('decent_map_{}.html'.format(n), mode=\"w\") as g:\n",
    "            g.write(html)"
   ]
  },
  {
   "cell_type": "code",
   "execution_count": 5,
   "metadata": {},
   "outputs": [
    {
     "name": "stdout",
     "output_type": "stream",
     "text": [
      "(24, 2) 24\n"
     ]
    }
   ],
   "source": [
    "n = 4\n",
    "id = [i+1 for i in range(n)]\n",
    "df = pd.DataFrame(\n",
    "    data=[[\n",
    "        str(descent_algo(ww)[0]), \n",
    "        str(descent_algo(ww)[1])\n",
    "        ] for ww in permutations(id)],\n",
    "    columns=['code', 'index'])\n",
    "\n",
    "print(df.drop_duplicates().shape, factorial(n))"
   ]
  },
  {
   "cell_type": "code",
   "execution_count": 24,
   "metadata": {},
   "outputs": [
    {
     "name": "stdout",
     "output_type": "stream",
     "text": [
      "[1, 2, 3] [0, 0, 0]\n",
      "[1, 3, 2] [0, 1, 1]\n",
      "[2, 1, 3] [1, 1, 0]\n",
      "[2, 3, 1] [1, 0, 1]\n",
      "[3, 1, 2] [1, 1, 1]\n",
      "[3, 2, 1] [1, 1, 1]\n"
     ]
    }
   ],
   "source": [
    "for w in permutations([1,2,3]):\n",
    "    print([int(i) for i in str(w)[1:-1].split(\", \")], [int(i) for i in str(descent_algo(w)[0])[1:-1].split(\", \")])"
   ]
  },
  {
   "cell_type": "code",
   "execution_count": 73,
   "metadata": {},
   "outputs": [],
   "source": [
    "def remover(pp):\n",
    "    \"\"\"\n",
    "    Removes elements from a list based on certain conditions.\n",
    "\n",
    "    Args:\n",
    "        pp (list): The input list.\n",
    "\n",
    "    Returns:\n",
    "        list: The modified list after removing elements.\n",
    "\n",
    "    \"\"\"\n",
    "    if pp == []:\n",
    "        return pp\n",
    "    N = pp.index(max(pp))\n",
    "    if N == len(pp) - 1:\n",
    "        return remover(pp[:-1])\n",
    "    elif N > 0:\n",
    "        return remover(pp[N:])\n",
    "    else: # the max is at the beginning\n",
    "        valleys = find_valleys(pp)  # find the valleys in the substring\n",
    "        if len(valleys) == 0:  # return the substring if no valleys\n",
    "            return pp\n",
    "        else:\n",
    "            v = min(valleys)  # pick the first valley\n",
    "            des_v = descents(pp[v:])  # look at the descents after the first valley\n",
    "            if des_v != []:  # if descents then recurse\n",
    "                return remover(pp[v:])\n",
    "            else: # check if the rest of permutation climbs above the descent before the valley\n",
    "                climbs = [j for j in pp[v:] if (bisect(pp[v - 1::-1], j) != 0)] # note we are looking in reverse\n",
    "                if climbs == []:                    \n",
    "                    return pp\n",
    "                else:\n",
    "                    j = min(climbs)\n",
    "                    return [i for i in pp if (i < j)]\n",
    "\n",
    "def remove(p, q):\n",
    "    \"\"\"\n",
    "    Removes elements from list p that are present in list q.\n",
    "\n",
    "    Args:\n",
    "        p (list): The list from which elements will be removed.\n",
    "        q (list): The list containing elements to be removed from p.\n",
    "\n",
    "    Returns:\n",
    "        list: A new list with elements from p that are not present in q.\n",
    "    \"\"\"\n",
    "    return [i for i in p if i not in q]\n",
    "\n",
    "def descent_algo(p):\n",
    "    \"\"\"\n",
    "    Perform the descent algorithm on a given list of integers.\n",
    "\n",
    "    Args:\n",
    "        p (list): The input list of integers.\n",
    "\n",
    "    Returns:\n",
    "        tuple: A tuple containing two elements:\n",
    "            - a (list): The resulting list after performing the descent algorithm.\n",
    "            - deg (dict): A dictionary containing the degrees of each step in the algorithm.\n",
    "    \"\"\"\n",
    "    pp = p\n",
    "    i = 0\n",
    "    a = [0 for _ in sorted(p)]\n",
    "    deg = {i: 0 for i in range(2 * len(p))}\n",
    "    while pp != sorted(pp):\n",
    "        pq = remover(pp)\n",
    "        d = desc(pq)\n",
    "        i += 1\n",
    "        deg[i] = d\n",
    "        pp = remove(pp, pq)\n",
    "        a = sequence(a, pq, i)\n",
    "    deg = {i: deg[i] for i in deg.keys() if deg[i] != 0}\n",
    "    return a, deg"
   ]
  },
  {
   "cell_type": "code",
   "execution_count": null,
   "metadata": {},
   "outputs": [],
   "source": []
  }
 ],
 "metadata": {
  "kernelspec": {
   "display_name": "Python 3.9.1 64-bit ('tableaux': conda)",
   "metadata": {
    "interpreter": {
     "hash": "14bf2abd044e4015f6b44ea771b07bb575c0efdfaec209bda872fa994da7e42f"
    }
   },
   "name": "python3"
  },
  "language_info": {
   "codemirror_mode": {
    "name": "ipython",
    "version": 3
   },
   "file_extension": ".py",
   "mimetype": "text/x-python",
   "name": "python",
   "nbconvert_exporter": "python",
   "pygments_lexer": "ipython3",
   "version": "3.11.4"
  }
 },
 "nbformat": 4,
 "nbformat_minor": 4
}
